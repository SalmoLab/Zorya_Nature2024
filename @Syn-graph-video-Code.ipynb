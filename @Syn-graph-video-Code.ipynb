{
 "cells": [
  {
   "cell_type": "code",
   "execution_count": 64,
   "id": "60f3e00a-e028-4d29-a202-7663a7755574",
   "metadata": {},
   "outputs": [
    {
     "name": "stdout",
     "output_type": "stream",
     "text": [
      "Multi-page TIFF file saved to C:\\Users\\admin\\Desktop\\test.tiff\n"
     ]
    }
   ],
   "source": [
    "import pandas as pd\n",
    "import matplotlib.pyplot as plt\n",
    "from PIL import Image\n",
    "import io\n",
    "import numpy as np  # Ensure you import numpy\n",
    "\n",
    "# Set global font properties\n",
    "plt.rcParams.update({'font.family': 'Arial', 'font.size': 10})\n",
    "\n",
    "# Load the data from the Excel file\n",
    "data_path = 'C:\\\\Users\\\\admin\\\\Desktop\\\\test.xlsx'  # Update this to your Excel file path\n",
    "data = pd.read_excel(data_path)\n",
    "\n",
    "# Create a list to hold the PIL Image objects\n",
    "images = []\n",
    "\n",
    "# Settings for high resolution\n",
    "dpi_setting = 400  # High DPI for high resolution\n",
    "fig_size_inches = 1600 / dpi_setting, 1600 / dpi_setting  # Size in inches for the desired dimensions\n",
    "\n",
    "# Y-axis settings\n",
    "y_min = 0  # Minimum y-value\n",
    "y_max = 1.5  # Maximum y-value\n",
    "y_tick_step = 0.5  # Step between y-ticks\n",
    "\n",
    "\n",
    "# Generate each frame as an image object and store it in the list\n",
    "for frame in range(1, len(data['Time']) + 1):\n",
    "    fig, ax = plt.subplots(figsize=fig_size_inches, dpi=dpi_setting)\n",
    "    ax.plot(data['Time'][:frame], data['Rel. development'][:frame], 'k-', lw=2)\n",
    "    ax.set_xlim(data['Time'].min(), data['Time'].max())\n",
    "    ax.set_ylim(data['Rel. development'].min(), data['Rel. development'].max())\n",
    "    ax.set_xlabel(\"Time [min]\")\n",
    "    ax.set_ylabel(\"rel. cell area\")\n",
    "    ax.set_facecolor('white')\n",
    "    fig.patch.set_facecolor('white')\n",
    "    ax.set_ylim(y_min, y_max)\n",
    "    ax.set_yticks(np.arange(y_min, y_max + y_tick_step, y_tick_step))  # Including y_max in ticks\n",
    "\n",
    "    # Adjust subplot parameters to optimize space usage\n",
    "    fig.subplots_adjust(left=0.15, right=0.95, top=0.9, bottom=0.15)\n",
    "\n",
    "    # Save to a buffer\n",
    "    buf = io.BytesIO()\n",
    "    fig.savefig(buf, format='tiff', dpi=dpi_setting, transparent=True)\n",
    "    plt.close(fig)\n",
    "    buf.seek(0)\n",
    "    img = Image.open(buf)\n",
    "    images.append(img)\n",
    "\n",
    "# Save all frames as a single multi-page TIFF file\n",
    "output_tiff_path = 'C:\\\\Users\\\\admin\\\\Desktop\\\\test.tiff'  # Update this to your desired output path\n",
    "images[0].save(output_tiff_path, save_all=True, append_images=images[1:], compression='tiff_deflate')\n",
    "\n",
    "print(f\"Multi-page TIFF file saved to {output_tiff_path}\")\n"
   ]
  },
  {
   "cell_type": "code",
   "execution_count": null,
   "id": "4f0a5a3a-ee3c-4426-a2ac-e30030087607",
   "metadata": {},
   "outputs": [],
   "source": []
  }
 ],
 "metadata": {
  "kernelspec": {
   "display_name": "Python 3 (ipykernel)",
   "language": "python",
   "name": "python3"
  },
  "language_info": {
   "codemirror_mode": {
    "name": "ipython",
    "version": 3
   },
   "file_extension": ".py",
   "mimetype": "text/x-python",
   "name": "python",
   "nbconvert_exporter": "python",
   "pygments_lexer": "ipython3",
   "version": "3.12.0"
  }
 },
 "nbformat": 4,
 "nbformat_minor": 5
}
